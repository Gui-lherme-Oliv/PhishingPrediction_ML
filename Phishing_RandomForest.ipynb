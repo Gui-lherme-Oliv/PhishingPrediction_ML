{
  "cells": [
    {
      "cell_type": "code",
      "execution_count": 1,
      "id": "WSc9QTkB1oKe",
      "metadata": {
        "id": "WSc9QTkB1oKe"
      },
      "outputs": [],
      "source": [
        "#importando bibliotecas\n",
        "import pandas as pd\n",
        "import numpy as np\n",
        "from sklearn.feature_selection import SelectKBest, f_classif\n",
        "from sklearn.model_selection import train_test_split\n",
        "from sklearn.ensemble import RandomForestClassifier\n",
        "from sklearn.metrics import classification_report, f1_score"
      ]
    },
    {
      "cell_type": "code",
      "execution_count": null,
      "id": "0b115b77",
      "metadata": {
        "id": "0b115b77",
        "scrolled": true
      },
      "outputs": [],
      "source": [
        "#importando o arquivo\n",
        "df = pd.read_csv('Phishing_Legitimate_full.csv', index_col=False)\n",
        "df.head()"
      ]
    },
    {
      "cell_type": "code",
      "execution_count": null,
      "id": "6d2e4136",
      "metadata": {
        "id": "6d2e4136",
        "scrolled": true
      },
      "outputs": [],
      "source": [
        "#verificando as informações dos dados\n",
        "df.info()"
      ]
    },
    {
      "cell_type": "code",
      "source": [
        "#feature selection\n",
        "X = df.drop(['CLASS_LABEL','id'], axis=1)\n",
        "y = df['CLASS_LABEL']\n",
        "\n",
        "f_classif = SelectKBest(score_func=f_classif, k=30)\n",
        "fit = f_classif.fit(X,y)\n",
        "features = fit.transform(X)\n",
        "cols = fit.get_support(indices=True)\n",
        "df.iloc[:,cols]"
      ],
      "metadata": {
        "id": "n9ua4pfYy_7I"
      },
      "id": "n9ua4pfYy_7I",
      "execution_count": null,
      "outputs": []
    },
    {
      "cell_type": "code",
      "execution_count": 5,
      "id": "ad462348",
      "metadata": {
        "id": "ad462348",
        "scrolled": true
      },
      "outputs": [],
      "source": [
        "#divisão em treino e teste\n",
        "X_train, X_test, y_train, y_test = train_test_split(features, y, test_size=0.2, random_state=42)"
      ]
    },
    {
      "cell_type": "code",
      "execution_count": 6,
      "id": "f8185444",
      "metadata": {
        "id": "f8185444"
      },
      "outputs": [],
      "source": [
        "#treinamento do modelo com Random Forest\n",
        "modelo = RandomForestClassifier(random_state=42)\n",
        "\n",
        "modelo.fit(X_train, y_train)\n",
        "\n",
        "y_pred = modelo.predict(X_test)"
      ]
    },
    {
      "cell_type": "code",
      "execution_count": null,
      "id": "DQKF7T6N3UnI",
      "metadata": {
        "id": "DQKF7T6N3UnI",
        "scrolled": true
      },
      "outputs": [],
      "source": [
        "#resultados\n",
        "print(classification_report(y_test, y_pred))"
      ]
    },
    {
      "cell_type": "code",
      "source": [
        "#learning curve\n",
        "import matplotlib.pyplot as plt\n",
        "from sklearn.model_selection import learning_curve\n",
        "\n",
        "train_sizes, train_scores, test_scores = learning_curve(RandomForestClassifier(), X_train, y_train, cv=3, scoring='accuracy',\n",
        "                                                        n_jobs=-1, train_sizes=np.linspace(0.01,1,50), verbose=1)\n",
        "\n",
        "train_mean = np.mean(train_scores, axis=1)\n",
        "train_std = np.std(train_scores, axis=1)\n",
        "test_mean = np.mean(test_scores, axis=1)\n",
        "test_std = np.std(test_scores, axis=1)\n",
        "\n",
        "plt.plot(train_sizes, train_mean, label='Training Score')\n",
        "plt.plot(train_sizes, test_mean, label='Cross-validation Score')\n",
        "\n",
        "plt.fill_between(train_sizes, train_mean-train_std, train_mean+train_std, color='#DDDDDD')\n",
        "plt.fill_between(train_sizes, test_mean-test_std, test_mean+test_std, color='#DDDDDD')\n",
        "\n",
        "plt.title('Learning Curve')\n",
        "plt.xlabel('Training Size')\n",
        "plt.ylabel('Accuracy Score')\n",
        "plt.legend(loc = 'lower right')"
      ],
      "metadata": {
        "id": "KPw_YwE3-5jg"
      },
      "id": "KPw_YwE3-5jg",
      "execution_count": null,
      "outputs": []
    }
  ],
  "metadata": {
    "colab": {
      "provenance": []
    },
    "kernelspec": {
      "display_name": "Python 3 (ipykernel)",
      "language": "python",
      "name": "python3"
    },
    "language_info": {
      "codemirror_mode": {
        "name": "ipython",
        "version": 3
      },
      "file_extension": ".py",
      "mimetype": "text/x-python",
      "name": "python",
      "nbconvert_exporter": "python",
      "pygments_lexer": "ipython3",
      "version": "3.9.12"
    }
  },
  "nbformat": 4,
  "nbformat_minor": 5
}